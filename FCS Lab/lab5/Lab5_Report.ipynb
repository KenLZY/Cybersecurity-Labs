{
 "cells": [
  {
   "cell_type": "code",
   "execution_count": null,
   "metadata": {},
   "outputs": [],
   "source": [
    "def int_to_bin_list(x, n=4):\n",
    "    return [int(b) for b in format(x, f'0{n}b')][::-1]  # LSB first\n",
    "\n",
    "def bin_list_to_int(b):\n",
    "    return sum(b[i] << i for i in range(len(b)))\n",
    "\n",
    "def poly_add(a, b):\n",
    "    return [x ^ y for x, y in zip(a + [0]*(len(b)-len(a)), b + [0]*(len(a)-len(b)))]"
   ]
  },
  {
   "cell_type": "code",
   "execution_count": null,
   "metadata": {},
   "outputs": [],
   "source": [
    "# Polynomial multiplication modulo x^4 + x^3 + 1\n",
    "modulus = [1, 0, 0, 1, 1]  # x^4 + x^3 + 1\n",
    "\n",
    "def poly_mul_mod(a, b, mod=modulus):\n",
    "    result = [0]*(len(a)+len(b)-1)\n",
    "    for i in range(len(a)):\n",
    "        for j in range(len(b)):\n",
    "            result[i+j] ^= a[i] & b[j]\n",
    "\n",
    "    # reduce\n",
    "    while len(result) >= len(mod):\n",
    "        shift = len(result) - len(mod)\n",
    "        for i in range(len(mod)):\n",
    "            result[i + shift] ^= mod[i]\n",
    "        while result and result[-1] == 0:\n",
    "            result.pop()\n",
    "    return result"
   ]
  },
  {
   "cell_type": "code",
   "execution_count": null,
   "metadata": {},
   "outputs": [],
   "source": [
    "# Generate and print addition table\n",
    "print(\"Addition Table\")\n",
    "print(\"     \", end=\"\")\n",
    "for i in range(16):\n",
    "    print(f\"{i:2}\", end=\" \")\n",
    "print()\n",
    "for i in range(16):\n",
    "    print(f\"{i:2} : \", end=\"\")\n",
    "    for j in range(16):\n",
    "        a = int_to_bin_list(i)\n",
    "        b = int_to_bin_list(j)\n",
    "        result = poly_add(a, b)\n",
    "        print(f\"{bin_list_to_int(result):2}\", end=\" \")\n",
    "    print()"
   ]
  },
  {
   "cell_type": "code",
   "execution_count": null,
   "metadata": {},
   "outputs": [],
   "source": [
    "# Generate and print multiplication table\n",
    "print(\"\\nMultiplication Table\")\n",
    "print(\"     \", end=\"\")\n",
    "for i in range(16):\n",
    "    print(f\"{i:2}\", end=\" \")\n",
    "print()\n",
    "for i in range(16):\n",
    "    print(f\"{i:2} : \", end=\"\")\n",
    "    for j in range(16):\n",
    "        a = int_to_bin_list(i)\n",
    "        b = int_to_bin_list(j)\n",
    "        result = poly_mul_mod(a, b)\n",
    "        print(f\"{bin_list_to_int(result):2}\", end=\" \")\n",
    "    print()"
   ]
  }
 ],
 "metadata": {
  "kernelspec": {
   "display_name": "Python 3",
   "language": "python",
   "name": "python3"
  },
  "language_info": {
   "name": "python",
   "version": "3.11"
  }
 },
 "nbformat": 4,
 "nbformat_minor": 2
}
