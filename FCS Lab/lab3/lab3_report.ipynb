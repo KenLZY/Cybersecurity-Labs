{
 "cells": [
  {
   "cell_type": "markdown",
   "id": "3fda60a7",
   "metadata": {},
   "source": [
    "### Task 1: Hashing using MD5"
   ]
  },
  {
   "cell_type": "markdown",
   "id": "8e5178f1",
   "metadata": {},
   "source": [
    "#### Qn 1: How does the length of the hash correspond to the input string?"
   ]
  },
  {
   "cell_type": "markdown",
   "id": "9feb42d0",
   "metadata": {},
   "source": [
    "- The length of the hash does not change no matter how long the input string is. It stays at length 32 no matter how long the input string is."
   ]
  },
  {
   "cell_type": "markdown",
   "id": "b0240190",
   "metadata": {},
   "source": [
    "#### Qn 2: Are there any visible correlations between the hash and the input string?"
   ]
  },
  {
   "cell_type": "markdown",
   "id": "a0d45d7a",
   "metadata": {},
   "source": [
    "- If we hash the same input string more than once, it would still output the same hash code"
   ]
  },
  {
   "cell_type": "markdown",
   "id": "84c219a5",
   "metadata": {},
   "source": [
    "#### Qn 3: What are the issues related to the cryptographic weakness of MD5?"
   ]
  },
  {
   "cell_type": "markdown",
   "id": "4edc9b34",
   "metadata": {},
   "source": [
    "1. Collision Vulnerability\n",
    "\n",
    "- Occurs when two different input strings hashes into the same hash code\n",
    "2. Weak preimage resistance\n",
    "3. No salting mechanism in place"
   ]
  },
  {
   "cell_type": "markdown",
   "id": "2912aea4",
   "metadata": {},
   "source": [
    "### Task 2: Break hashes with brute force"
   ]
  },
  {
   "cell_type": "markdown",
   "id": "2b8a8f2c",
   "metadata": {},
   "source": [
    "Take note: ex2.py accepts arguments\n",
    "\n",
    "How to use?\n",
    "\n",
    "./ex2.py -i hash5.txt -o ex2_hash.txt <-- added a shebang at the top of the file so it knows to execute with python3 interpreter"
   ]
  },
  {
   "cell_type": "markdown",
   "id": "abe63392",
   "metadata": {},
   "source": [
    "#### Qn 1: How much time did you take in total?"
   ]
  },
  {
   "cell_type": "markdown",
   "id": "2e6872f2",
   "metadata": {},
   "source": [
    "The program ran for approximately 17.78 seconds"
   ]
  },
  {
   "cell_type": "markdown",
   "id": "36466cf3",
   "metadata": {},
   "source": [
    "#### Qn 2: How much time does it take to crack each string, on average?"
   ]
  },
  {
   "cell_type": "markdown",
   "id": "bb57c13d",
   "metadata": {},
   "source": [
    "There are 15 hash codes to reverse and it took ~17.78 seconds to break all 15.\n",
    "\n",
    "Therefore, 17.78 / 15 = 1.186 seconds approxmately to crack each string"
   ]
  },
  {
   "cell_type": "markdown",
   "id": "48213e48",
   "metadata": {},
   "source": [
    "#### Qn 3: Is it possible to amortize? (gradually write off the initial cost of) the brute forcing attempts?"
   ]
  },
  {
   "cell_type": "markdown",
   "id": "f306b633",
   "metadata": {},
   "source": [
    "To a certain extent, yes. For this lab, we were given constraints such as characters are only picked from a certain pool, input strings are 5 characters long. However, if we step out of this lab, input strings can have arbitrarily characters and lengths, which would cause the cost of the brute force attempts to be too substantial to amortize. Therefore, if the input strings' properties are known and short, the brute forcing attempts can be written off but as we get to more unknown properties, it is difficult to say amortizing is possible."
   ]
  },
  {
   "cell_type": "markdown",
   "id": "64331db1",
   "metadata": {},
   "source": [
    "### Task 3: Salt"
   ]
  },
  {
   "cell_type": "markdown",
   "id": "ea22f96c",
   "metadata": {},
   "source": [
    "Take note: ex3.py do not need any arguments\n",
    "\n",
    "How to use?\n",
    "\n",
    "./ex3.py"
   ]
  },
  {
   "cell_type": "markdown",
   "id": "e1651648",
   "metadata": {},
   "source": [
    "#### Qn 1: What are the observed differences between your ease of cracking the salted vs unsalted plaintexts?"
   ]
  },
  {
   "cell_type": "markdown",
   "id": "e5aa5b1f",
   "metadata": {},
   "source": [
    "- It takes significantly longer to crack salted plaintext as compared to unsalted plaintext"
   ]
  },
  {
   "cell_type": "markdown",
   "id": "ae4c8357",
   "metadata": {},
   "source": [
    "#### Qn 2: Report the difference in time taken to crack the salted and unsalted hash values"
   ]
  },
  {
   "cell_type": "markdown",
   "id": "057e330b",
   "metadata": {},
   "source": [
    "Time taken to crack unsalted hash values: 17.78 seconds\n",
    "\n",
    "Time taken to crack salted hash values: 19.1 minutes\n",
    "\n",
    "Time difference = ~ 1128 seconds = 18.8 minutes\n",
    "\n",
    "This was the difference at first while I was brute forcing all 6 characters blindly. After re strategizing,\n",
    "\n",
    "Time taken to crack salted hash values = 52 seconds\n",
    "\n",
    "Therfore, the new difference between times = ~ 34 seconds"
   ]
  },
  {
   "cell_type": "markdown",
   "id": "ccfe9bb4",
   "metadata": {},
   "source": [
    "#### Qn 3: Explain any differences between salted and unsalted crack strategies"
   ]
  },
  {
   "cell_type": "markdown",
   "id": "3449a952",
   "metadata": {},
   "source": [
    "Yes, since we are given the knowledge that the salting strategy for this exercise is to append a random character to the input strings, we can first brute force all possible 6 characters combination and once we found the FIRST one, we can extract the last character (because that is the salt) and only brute force all combinations with that salt only so speed things up."
   ]
  },
  {
   "cell_type": "markdown",
   "id": "81223be4",
   "metadata": {},
   "source": [
    "### Task 4: Hash breaking Competition"
   ]
  },
  {
   "cell_type": "markdown",
   "id": "c2cece2d",
   "metadata": {},
   "source": [
    "#### Qn 1: What is the approach you used to crack the hashes?"
   ]
  },
  {
   "cell_type": "markdown",
   "id": "6724402c",
   "metadata": {},
   "source": [
    "The approach I first decided to embark was to use the code I made in exercises 2 and 3. However these only can help me to solve a little bit of the weak hashes. Before that, I split the hashes into the corresponding difficulty levels; weak, moderate and strong. I started using my ex2 code on the weak hashes and I did not really crack alot of them, out of 71 weak hashes, I only managed to solve 58 of them. For the moderate and strong hashes, I used a package called \"hashcat\"."
   ]
  },
  {
   "cell_type": "markdown",
   "id": "7f94c0b7",
   "metadata": {},
   "source": [
    "#### Qn 2: How you decided or designed your approach?"
   ]
  },
  {
   "cell_type": "markdown",
   "id": "4e0814f8",
   "metadata": {},
   "source": [
    "Because my ex2 and ex3 codes cannot really crack any of the moderate or strong hashes, I think its because of the way the algorithm is designed. Its meant to handle a specific character set and not for unknown salts or unknown character sets. That is the reason why I transitioned to using online tools like \"hashcat\"."
   ]
  },
  {
   "cell_type": "markdown",
   "id": "726c7025",
   "metadata": {},
   "source": [
    "#### Qn 3: Main Challenges or limitations to your approach"
   ]
  },
  {
   "cell_type": "markdown",
   "id": "0475cb54",
   "metadata": {},
   "source": [
    "So, when I first started out, I was faced with the unknown variables that the hashes have (i.e. number of characters, any salt used). This made the hashes difficult to crack as brute force would take a really long time because it is going to try every, single combination."
   ]
  },
  {
   "cell_type": "markdown",
   "id": "94f8a130",
   "metadata": {},
   "source": [
    "#### Qn 4: How many hashes out of total did you manage to crack?"
   ]
  },
  {
   "cell_type": "markdown",
   "id": "d4df2e8f",
   "metadata": {},
   "source": [
    "The total number of hashes we were given is: 148\n",
    "\n",
    "Weak hashes cracked: 70/71\n",
    "\n",
    "Uncracked: 1\n",
    "\n",
    "Moderate hashes cracked: 52/58\n",
    "\n",
    "Uncracked: 6\n",
    "\n",
    "Strong hashes cracked: 11/19\n",
    "\n",
    "Uncracked: 8\n",
    "\n",
    "Total number of hashes cracked: 133/148\n",
    "Remaining uncracked hashes: 15"
   ]
  },
  {
   "cell_type": "markdown",
   "id": "ab792d80",
   "metadata": {},
   "source": [
    "### Outputs"
   ]
  },
  {
   "cell_type": "markdown",
   "id": "4665c98d",
   "metadata": {},
   "source": [
    "#### Task 2"
   ]
  },
  {
   "cell_type": "markdown",
   "id": "ad30e754",
   "metadata": {},
   "source": [
    "1: aseas\n",
    "\n",
    "2: cance\n",
    "\n",
    "3: di5gv\n",
    "\n",
    "4: dsmto\n",
    "\n",
    "5: egunb\n",
    "\n",
    "6: hed4e\n",
    "\n",
    "7: lou0g\n",
    "\n",
    "8: mlhdi\n",
    "\n",
    "9: nized\n",
    "\n",
    "10: ofror\n",
    "\n",
    "11: opmen\n",
    "\n",
    "12: owso9\n",
    "\n",
    "13: sso55\n",
    "\n",
    "14: tpoin\n",
    "\n",
    "15: tthel"
   ]
  },
  {
   "cell_type": "markdown",
   "id": "28cb5642",
   "metadata": {},
   "source": [
    "#### Task 3"
   ]
  },
  {
   "cell_type": "markdown",
   "id": "e785ddeb",
   "metadata": {},
   "source": [
    "The following is a snippet of the output after running ex3.py"
   ]
  },
  {
   "cell_type": "markdown",
   "id": "131762f5",
   "metadata": {},
   "source": [
    "This is the password list:\n",
    "\n",
    "['aseas', 'cance', 'di5gv', 'dsmto', 'egunb', 'hed4e', 'lou0g', 'mlhdi', 'nized', 'ofror', 'opmen', 'owso9', 'sso55', 'tpoin', 'tthel']\n",
    "\n",
    "\n",
    "The selected salt character is 'u'!\n",
    "\n",
    "These are the new passwords:\n",
    "\n",
    "aseasu\n",
    "\n",
    "canceu\n",
    "\n",
    "di5gvu\n",
    "\n",
    "dsmtou\n",
    "\n",
    "egunbu\n",
    "\n",
    "hed4eu\n",
    "\n",
    "lou0gu\n",
    "\n",
    "mlhdiu\n",
    "\n",
    "nizedu\n",
    "\n",
    "ofroru\n",
    "\n",
    "opmenu\n",
    "\n",
    "owso9u\n",
    "\n",
    "sso55u\n",
    "\n",
    "tpoinu\n",
    "\n",
    "tthelu\n",
    "\n",
    "\n",
    "Program is running...\n",
    "\n",
    "The program ran for 51.16934995900374s\n",
    "\n",
    "['aseasu', 'aseasu', 'canceu', 'di5gvu', 'dsmtou', 'egunbu', 'hed4eu', 'lou0gu', 'mlhdiu', 'nizedu', 'ofroru', 'opmenu', 'owso9u', 'sso55u', 'tpoinu', 'tthelu']"
   ]
  }
 ],
 "metadata": {
  "language_info": {
   "name": "python"
  }
 },
 "nbformat": 4,
 "nbformat_minor": 5
}
