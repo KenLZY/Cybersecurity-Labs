{
 "cells": [
  {
   "cell_type": "markdown",
   "id": "db173cfb",
   "metadata": {},
   "source": [
    "## FCS Lab 1 Submission Report\n",
    "- Name of Student: Lim Zhiyu, Kendrix\n",
    "- Student ID: 1008152"
   ]
  },
  {
   "cell_type": "markdown",
   "id": "670d8b4c",
   "metadata": {},
   "source": [
    "### Command Line Instructions"
   ]
  },
  {
   "cell_type": "markdown",
   "id": "e7ee4e00",
   "metadata": {},
   "source": [
    "For exercise 1: !python3 ex1.py -i sherlock_short.txt -o <file_name>.txt -k <any integer from 0 - 255> -m <\"e\" for encrypt, \"d\" for decrypt>\n",
    "\n",
    "For exercise 2: !python3 ex2.py -i sherlock_short.txt -o <file_name>.txt -k <any integer from 0 - 255> -m <\"e\" for encrypt, \"d\" for decrypt>\n",
    "\n",
    "For exercise 3: !python3 ex2.py -i flag -o <file_name>.png"
   ]
  },
  {
   "cell_type": "markdown",
   "id": "e0fe50ea",
   "metadata": {},
   "source": [
    "### Expected Outputs for each exercise"
   ]
  },
  {
   "cell_type": "markdown",
   "id": "4c97717f",
   "metadata": {},
   "source": [
    "#### Part 1: Shift Cipher for printable input"
   ]
  },
  {
   "cell_type": "code",
   "execution_count": null,
   "id": "24fcc10c",
   "metadata": {},
   "outputs": [],
   "source": [
    "!python3 ex1.py -i sherlock_short.txt -o textEncrypted.txt -k 10 -m e\n",
    "!cat textEncrypted.txt"
   ]
  },
  {
   "cell_type": "markdown",
   "id": "452024fb",
   "metadata": {},
   "source": [
    "##### Expected Output:\n",
    "    WB\\4#roBvymu4RyvwoC@4Gry4GkC4ECEkvvI4FoBI4vkDo4sx4Dro4wyBxsxqC@4CkFo4Ezyx4DryCo4xyD4sxpBoAEoxD4ymmkCsyxC4Grox4ro4GkC4Ez4kvv4xsqrD@4GkC4CokDon4kD4Dro4lBokupkCD4Dklvo\\"
   ]
  },
  {
   "cell_type": "code",
   "execution_count": null,
   "id": "57f2cf50",
   "metadata": {},
   "outputs": [],
   "source": [
    "!python3 ex1.py -i textEncrypted.txt -o textDecrypted.txt -k 10 -m d\n",
    "!cat textDecrypted.txt"
   ]
  },
  {
   "cell_type": "markdown",
   "id": "8189709a",
   "metadata": {},
   "source": [
    "##### Expected Output:\n",
    "    Mr. Sherlock Holmes, who was usually very late in the mornings, save upon those not infrequent occasions when he was up all night, was seated at the breakfast table."
   ]
  },
  {
   "cell_type": "markdown",
   "id": "0eb8b952",
   "metadata": {},
   "source": [
    "#### Part 2: Shift Cipher for Binary Input"
   ]
  },
  {
   "cell_type": "code",
   "execution_count": null,
   "id": "03bc3fb3",
   "metadata": {},
   "outputs": [],
   "source": [
    "!python ex2.py -i sherlock_short.txt -o binaryEncrypt.txt -k <any integer from 0 - 255> -m e\n",
    "!cat binaryEncrypt.txt"
   ]
  },
  {
   "cell_type": "markdown",
   "id": "2c4864a9",
   "metadata": {},
   "source": [
    "##### Expected Output:\n",
    "    W|8*]ro|vymu*Ryvwo}6*?ry*?k}*}kvv?*?o|?*vk~o*sx*~ro*wy|xsxq}6*}k?o*zyx*~ry}o*xy~*sxp|o{ox~*ymmk}syx}*?rox*ro*?k}*z*kvv*xsqr~6*?k}*}ok~on*k~*~ro*l|okupk}~*~klvo8"
   ]
  },
  {
   "cell_type": "code",
   "execution_count": null,
   "id": "c8ef0ce4",
   "metadata": {},
   "outputs": [],
   "source": [
    "!python ex2.py -i binaryEncrypt.txt -o binaryDecrypt.txt -k <any integer from 0 - 255> -m d\n",
    "!cat binaryEncrypt.txt"
   ]
  },
  {
   "cell_type": "markdown",
   "id": "27ab3477",
   "metadata": {},
   "source": [
    "##### Expected Output:\n",
    "    Mr. Sherlock Holmes, who was usually very late in the mornings, save upon those not infrequent occasions when he was up all night, was seated at the breakfast table."
   ]
  },
  {
   "cell_type": "markdown",
   "id": "a3b25c59",
   "metadata": {},
   "source": [
    "#### Part 3: Shift Cipher for Binary Input (flag)"
   ]
  },
  {
   "cell_type": "code",
   "execution_count": null,
   "id": "e737b09d",
   "metadata": {},
   "outputs": [],
   "source": [
    "!python ex2.py -i flag -o flag_decrypted.png\n",
    "!open flag_decrypted.png"
   ]
  },
  {
   "cell_type": "markdown",
   "id": "2ee8ffd6",
   "metadata": {},
   "source": [
    "##### Expected Output:\n",
    "    The Switzerland flag"
   ]
  },
  {
   "cell_type": "markdown",
   "id": "cbb0cd98",
   "metadata": {},
   "source": [
    "### Exercise 1 Explanation"
   ]
  },
  {
   "cell_type": "code",
   "execution_count": null,
   "id": "3a1456fa",
   "metadata": {},
   "outputs": [],
   "source": [
    "import sys\n",
    "import argparse\n",
    "import string\n",
    "\n",
    "def doStuff(filein, fileout, key, mode):\n",
    "    # open file handles to both files\n",
    "    fin = open(filein, mode=\"r\", encoding=\"utf-8\", newline=\"\\n\")  # read mode\n",
    "    fin_b = open(filein, mode=\"rb\")  # binary read mode\n",
    "    fout = open(fileout, mode=\"w\", encoding=\"utf-8\", newline=\"\\n\")  # write mode\n",
    "    fout_b = open(fileout, mode=\"wb\")  # binary write mode\n",
    "\n",
    "    # create an empty string to hold the output after encrypting / decrypting\n",
    "    result = \"\"\n",
    "    # string module printable gives us a string that contains characters we want to shift amongst\n",
    "    ALPHABET = string.printable\n",
    "    # get the length of the string so that when we encrypt/decrypt, we can mod it to keep it within the string.printable\n",
    "    N = len(ALPHABET)\n",
    "\n",
    "    with open(filein, mode=\"r\", encoding=\"utf-8\", newline=\"\\n\") as fin:\n",
    "        text = fin.read()\n",
    "        '''\n",
    "        if encryption is selected...\n",
    "        (1) Iterate through the input string\n",
    "        (2) For each of the characters in the input string,\n",
    "            (2.1) check if the character is in ALPHABET (i.e. the string.printable)\n",
    "            (2.2) if it is, get the index of that character in ALPHABET\n",
    "            (2.3) perform encryption algorithm\n",
    "            (2.4) add new encrypted char into the result string\n",
    "        \n",
    "        else if decryption is selected...\n",
    "        The same as encryption just that the decryption algorithm is used in 2.3\n",
    "\n",
    "        (3) then, after encrypting/decrypting, write onto the fout file with result\n",
    "        '''\n",
    "        if mode == \"e\":\n",
    "            for char in text:\n",
    "                if char in ALPHABET:\n",
    "                    getCharIdx = ALPHABET.index(char)\n",
    "                    newIdx = (getCharIdx + key) % N\n",
    "                    encryptedChar = ALPHABET[newIdx]\n",
    "                    result += encryptedChar\n",
    "        else:\n",
    "            for char in text:\n",
    "                if char in ALPHABET:\n",
    "                    getCharIdx = ALPHABET.index(char)\n",
    "                    newIdx = (getCharIdx - key) % N\n",
    "                    encryptedChar = ALPHABET[newIdx]\n",
    "                    result += encryptedChar\n",
    "\n",
    "        fout.write(result)"
   ]
  },
  {
   "cell_type": "markdown",
   "id": "fdb332f4",
   "metadata": {},
   "source": [
    "### Exercise 2 Explanation"
   ]
  },
  {
   "cell_type": "code",
   "execution_count": null,
   "id": "2a386a73",
   "metadata": {},
   "outputs": [],
   "source": [
    "import sys\n",
    "import argparse\n",
    "import string\n",
    "\n",
    "\n",
    "def doStuff(filein, fileout, key, mode):\n",
    "    # open file handles to both files\n",
    "    fin = open(filein, mode=\"r\", encoding=\"utf-8\", newline=\"\\n\")  # read mode\n",
    "    fin_b = open(filein, mode=\"rb\")  # binary read mode\n",
    "    fout = open(fileout, mode=\"w\", encoding=\"utf-8\", newline=\"\\n\")  # write mode\n",
    "    fout_b = open(fileout, mode=\"wb\")  # binary write mode\n",
    "\n",
    "    PNG = [137, 80, 78, 71, 13, 10, 26, 10]\n",
    "\n",
    "    with open(filein, mode=\"rb\") as fin_b:\n",
    "        binaryInput = fin_b.read()\n",
    "        # create a bytearray with the binary input\n",
    "        ba = bytearray(binaryInput)\n",
    "        # take the first 8 bytes of the array to check for png file\n",
    "        byteHeader = ba[:8]\n",
    "\n",
    "        if mode != None:\n",
    "\n",
    "            for char in ba:\n",
    "                # each char is now an int\n",
    "                if mode == \"e\":\n",
    "                    shiftedChar = (char + key) % 256\n",
    "                    fout_b.write(bytes([shiftedChar]))\n",
    "                elif mode == \"d\":\n",
    "                    shiftedChar = (char - key) % 256\n",
    "                    fout_b.write(bytes([shiftedChar]))\n",
    "        else:\n",
    "            # iterate through every single possible key i.e. 0 - 255\n",
    "            for possibleKey in range(256):\n",
    "                # create an empty list to store every possible first 8 decrypted bytes\n",
    "                decryptedBytes = []\n",
    "                # use this key to decrypt the first 8 bytes\n",
    "                for byte in byteHeader:\n",
    "                    decryptedBytes.append((byte - possibleKey) % 256)\n",
    "                    # then, we check if the current combination of the decrypted 8 bytes fits\n",
    "                    # the PNG file special 8 byte combination\n",
    "                if decryptedBytes == PNG:\n",
    "                    print(f\"The correct key has been found... {possibleKey}\")\n",
    "                    break\n",
    "\n",
    "            # if indeed the correct key, we will use it to decrypt the whole file\n",
    "            for byte in ba:\n",
    "                shiftedChar = (byte - possibleKey) % 256\n",
    "                fout_b.write(bytes([shiftedChar]))"
   ]
  },
  {
   "cell_type": "markdown",
   "id": "42127149",
   "metadata": {},
   "source": [
    "Breakdown of the concept used for exercise 2 (binary):\n",
    "1) We read the input file (i.e. sherlock_short.txt) as a binary input\n",
    "2) We then create a bytearray with the binary input\n",
    "3) Iterate through the bytearray\n",
    "    3.1) For every byte in the array,\n",
    "        3.1.1) if its encryption,\n",
    "            3.1.a) add the key to the byte and make sure to modulus 256 to prevent the result value from getting out of the 0 - 255 range\n",
    "            3.1.b) write the result into the output file, making sure to utilise the bytes() method to convert the result to a byte as we writing in binary back to the output file\n",
    "        3.1.2) if its decryption,\n",
    "            3.1.a) same thing as encryption just that the algorihm for decryption is to substract the key from each byte"
   ]
  },
  {
   "cell_type": "markdown",
   "id": "387afb23",
   "metadata": {},
   "source": [
    "Breakdown of the concepts used for exercise 2 (flag):\n",
    "1) From the lab notes, we know that the output is a PNG file\n",
    "- This allows us to know that every PNG file starts off with the same 8 bytes (137, 80, 78, 71, 13, 10, 26, 10)\n",
    "2) Created a list with this 8 bytes labelled PNG\n",
    "3) The whole idea of this code is to decrypt the binary input's first 8 bytes using every single possible key starting from 0 up to 255\n",
    "- Once the right key is found, we proceed decrypting the rest of the file with that correct key\n",
    "\n",
    "P.S. The mode to decrypt the flag file is None, no mode input is needed for the command to run"
   ]
  }
 ],
 "metadata": {
  "kernelspec": {
   "display_name": "base",
   "language": "python",
   "name": "python3"
  },
  "language_info": {
   "codemirror_mode": {
    "name": "ipython",
    "version": 3
   },
   "file_extension": ".py",
   "mimetype": "text/x-python",
   "name": "python",
   "nbconvert_exporter": "python",
   "pygments_lexer": "ipython3",
   "version": "3.12.4"
  }
 },
 "nbformat": 4,
 "nbformat_minor": 5
}
