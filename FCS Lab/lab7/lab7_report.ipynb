{
 "cells": [
  {
   "cell_type": "markdown",
   "id": "0645e2d7",
   "metadata": {},
   "source": [
    "# ex2.py"
   ]
  },
  {
   "cell_type": "code",
   "execution_count": null,
   "id": "ddc66dc4",
   "metadata": {},
   "outputs": [],
   "source": [
    "Part I -------------\n",
    "Original Message:\n",
    "Hello World! This is Sherlock.\n",
    "\n",
    "After hashing using SHA256:\n",
    "string: 78fc1d99aa35b61ae1310555a252a9486d8f952aacc3319cb1d91e4035df7a3b\n",
    "bytes: b'x\\xfc\\x1d\\x99\\xaa5\\xb6\\x1a\\xe11\\x05U\\xa2R\\xa9Hm\\x8f\\x95*\\xac\\xc31\\x9c\\xb1\\xd9\\x1e@5\\xdfz;'\n",
    "\n",
    "Signature created!\n",
    "122686153199613513039816347914061951966343400988063310502207006306106604640956308779344622282695020491479162196520011786422695769578338352073701065940287495598848191091992445735065132096671206887320703877963855284001288854613651589991891624454536176406810746728571071707911404771647311638324729744792406863121\n",
    "\n",
    "Verifying signature... Match!"
   ]
  },
  {
   "cell_type": "markdown",
   "id": "268cc978",
   "metadata": {},
   "source": [
    "# ex3.py"
   ]
  },
  {
   "cell_type": "code",
   "execution_count": null,
   "id": "979ac2ce",
   "metadata": {},
   "outputs": [],
   "source": [
    "Part II -------------\n",
    "Encrypting: 100\n",
    "Result:\n",
    "122958632740668866768666000464174722842511114811350455529516542396465965526253172448121048019762699874069569688906522114895853576958876108469062241665797249738074069489131133990226837557144423192495381999896877667248042608974978625187857286476284582122349548284682940363603261607393108918231380108825679302933\n",
    "Modified:\n",
    "120337680862297522205543979420167729526940415468292422386943802174493511993855588248560263816949214409826981893569648577686142838838943877484983763868523428283314976127655775714558948466370509093573857314422929608226508300138584720219409916787472689182376174967176941019237186484244769507369508526197412770334\n",
    "Decrypted: 200"
   ]
  },
  {
   "cell_type": "markdown",
   "id": "a2978b1b",
   "metadata": {},
   "source": [
    "# ex4.py"
   ]
  },
  {
   "cell_type": "code",
   "execution_count": null,
   "id": "3d39b232",
   "metadata": {},
   "outputs": [],
   "source": [
    "Part III -------------\n",
    "Let's start with Alice's part!\n",
    "\n",
    "Selected 1024-bit integer, s:\n",
    "17278428755466050461922416417456305911206992736355996744667988325383638453527287840229977116579519190350875998516779971720169560831899610583367448276948078728182600166896165251409169999908875528848631188462942214825966179684162812512274199976543984116159230198524269299599982349337245533972208601227522300185\n",
    "\n",
    "Computed new message, x:\n",
    "39889620662896260116958114276840647303820103931253336466947713581434991000699946649223629778407361010301970423098712966532377554139400494117343235656838589477836300551833827479203267579734365799771475525859236341661809104218272877414385672830089272920591501708767683707949886836549151885274843269675111779487\n",
    "\n",
    "Sending Bob signature, s and message, x...\n",
    "\n",
    "Now's Bob's turn!\n",
    "\n",
    "After Bob computes a new digest, x prime using public key...\n",
    "He checks if x prime == x\n",
    "Do these two messages match, Bob?\n",
    "True\n",
    "\n",
    "Since they both match, message and signature pair (x, s) is accepted!"
   ]
  },
  {
   "cell_type": "markdown",
   "id": "38757036",
   "metadata": {},
   "source": [
    "# ex5.py"
   ]
  },
  {
   "cell_type": "code",
   "execution_count": null,
   "id": "14a25497",
   "metadata": {},
   "outputs": [],
   "source": [
    "Task IV -------------\n",
    "\n",
    "1: Encrypt mydata.txt with public key\n",
    "Message to encrypt: Hello, this is my data.\n",
    "Encryption Successful!\n",
    "\n",
    "2: Decrypt mydata.txt with private key\n",
    "Decryption Successful!\n",
    "\n",
    "3: Sign mydata.txt using private key\n",
    "Signing Successful!\n",
    "\n",
    "4: Verify signature\n",
    "\n",
    "Verified: True\n",
    "\n",
    "Now, we are going to redo the protocol attack again to see if it works!\n",
    "Let's start with Alice's part!\n",
    "\n",
    "Selected 1024-bit integer, s:\n",
    "17278428755466050461922416417456305911206992736355996744667988325383638453527287840229977116579519190350875998516779971720169560831899610583367448276948078728182600166896165251409169999908875528848631188462942214825966179684162812512274199976543984116159230198524269299599982349337245533972208601227522300185\n",
    "\n",
    "Computed new message, x = s^e mod n:\n",
    "82579563087031703079791328031301969089832243783745592796786292273664053262185879971561719285687745215043358132135707672305206871620967726349979963118282946005928071533968393483985170043539572819032371273287236592407509840170648237616068156598612821020377048714333513480918932754960602741469034757356575638132\n",
    "\n",
    "Sending Bob the signature s and the message x...\n",
    "\n",
    "Now it's Bob's turn!\n",
    "\n",
    "Result: False\n",
    "\n",
    "The attack did not work on this new RSA"
   ]
  }
 ],
 "metadata": {
  "language_info": {
   "name": "python"
  }
 },
 "nbformat": 4,
 "nbformat_minor": 5
}
