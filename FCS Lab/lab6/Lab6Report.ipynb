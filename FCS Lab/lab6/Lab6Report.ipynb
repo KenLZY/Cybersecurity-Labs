{
 "cells": [
  {
   "cell_type": "markdown",
   "id": "3337f5e6",
   "metadata": {},
   "source": [
    "# Output for sharedKeyA"
   ]
  },
  {
   "cell_type": "markdown",
   "id": "54d46e2e",
   "metadata": {},
   "source": [
    "## textA.txt (passed to encrypt and decyrypt)"
   ]
  },
  {
   "cell_type": "markdown",
   "id": "28b5e282",
   "metadata": {},
   "source": [
    "Hello, this is encrypted and decrypted with sharedKeyA"
   ]
  },
  {
   "cell_type": "markdown",
   "id": "69d7675f",
   "metadata": {},
   "source": [
    "## deciphertext.txt"
   ]
  },
  {
   "cell_type": "markdown",
   "id": "24e4fd31",
   "metadata": {},
   "source": [
    "Hello, this is encrypted and decrypted with sharedKeyA"
   ]
  },
  {
   "cell_type": "markdown",
   "id": "e3a4c4d2",
   "metadata": {},
   "source": [
    "# Output for sharedKeyB"
   ]
  },
  {
   "cell_type": "markdown",
   "id": "e23d214a",
   "metadata": {},
   "source": [
    "## textB.txt (passed to encrypt and decrypt)"
   ]
  },
  {
   "cell_type": "markdown",
   "id": "6f0ff460",
   "metadata": {},
   "source": [
    "Hello, this is encrypted and decrypted with sharedKeyB."
   ]
  },
  {
   "cell_type": "markdown",
   "id": "5a5c64ba",
   "metadata": {},
   "source": [
    "## deciphertextB.txt"
   ]
  },
  {
   "cell_type": "markdown",
   "id": "e42a4211",
   "metadata": {},
   "source": [
    "Hello, this is encrypted and decrypted with sharedKeyB."
   ]
  }
 ],
 "metadata": {
  "language_info": {
   "name": "python"
  }
 },
 "nbformat": 4,
 "nbformat_minor": 5
}
