{
 "cells": [
  {
   "cell_type": "markdown",
   "id": "0e28c20c",
   "metadata": {},
   "source": [
    "### Task 1"
   ]
  },
  {
   "cell_type": "markdown",
   "id": "499264be",
   "metadata": {},
   "source": [
    "For task 1, we did a freqeuncy analysis on a ciphered text, story_cipher.txt\n",
    "- first, i siphoned out all one letter words as they could be \"a\" or \"i\"\n",
    "- according to Google, \"i\" appears more frequently compared to \"a\"\n",
    "- so replacement for both \"i\" and \"a\" were executed\n",
    "then, I siphoned out all the two letter words\n",
    "- the goal was to figure out words like \"it\", \"is\", etc...\n",
    "- from here, I managed to figure out all the \"it\" and \"is\"\n",
    "next, three letter words\n",
    "- three letter words were siphoned to figure out \"the\", etc...\n",
    "From here onwards, it was full guess and check\n",
    "\n",
    "*Answers wll be in lower case as the approach I had was to change all guessed letters into lower case and then filter out undeciphered letters for readability (upper case letters)*"
   ]
  },
  {
   "cell_type": "markdown",
   "id": "d1828815",
   "metadata": {},
   "source": [
    "#### Output: solution.txt"
   ]
  },
  {
   "cell_type": "markdown",
   "id": "c8e7caf3",
   "metadata": {},
   "source": [
    "what is symphogear. for a looooong, looong time i have never bothered engaging myself in this franchise. i did not understand what it is. now that the show is having its last season, i decided to finally give in, give symphogear a try from the very start. i wondered how have i missed out on the anime of the decade all these years. i honestly did not know what to expect watching the very first episode knowing absolutely nothing about the franchise. the show toyed with my emotions so much in that opening setpiece. it ended up being one of the most life affirming shows out there. a stunning display of idiocy and action that is both charming and captivating. it is confident in its strengths and parades its weaknesses proudly, a show that is both all style and all substance. oh but most of all, it is a true roller coaster of emotions, and i do not use that term lightly. i laughed, i cried, i got frustrated at the ineptitude and stupidity of both the characters and the creators, but most of all, i loved. when the curse of balal fell in place, songs still managed to bridge that gap and connect us all together. the one emotion the show never fails to deliver is hype. the surge of adrenaline and endorphins and all the chemicals in your brain whenever something awesome is happening onscreen is a rare treat in most other anime, but a constant occurrence in this show. the hype does occasionally fail to deliver, the higher expectations can sometimes be oh too much, but still, when you hear hibiki scream, you know she means business and join her in song. and those songs are precisely what keeps symphogear in the minds of many all this while. i am not an idol anime person, i despise most idol anime and yet. and yet. the moment i heard the songs for the first time right there on the idol concert, i was enthralled. i knew that regardless of how the show turned out, it would have great music. covering many genres, the show has a diverse palette of songs ranging from celtic rock to enka inspired tracks, there is no shortage of variety. yes there are songs that do not work well, but the ones that resonate far outweigh the occasional bad ones.  symphogear has to be taken in as a complete package. it truly is more than the sum of its parts. looking back, yes i can agree on all the flaws, some major, the show has had. yet in spite of it all, across seven years and five seasons. it is why i ultimately decided in awarding it with one of my rare nines. something this special, this inspirational, this long lasting is truly an experience to behold. for better for worse, it is the definitive anime that represents the decade. it may not have ended in the way i wanted, and it may not have that one kiss i was looking for, but it filled the hole in my heart, and with it ending, the gaping wound in my soul may never heal. maybe, for now, i will say that the show ended well. it was not perverted into a zombie franchise like others, nor did it stumble hard in its final moment and struggle to reclaim its past glory. it had shortcomings, but thinking back, the journey to the end has been a satisfying one throughout. so what is symphogear. it is a hybrid idol anime. it is an anime about fisting. it is five seasons and seven years long and has captivated the hearts of many. but most importantly, it is believing in the song of your heart."
   ]
  },
  {
   "cell_type": "markdown",
   "id": "fb5ff7ab",
   "metadata": {},
   "source": [
    "### Task 2"
   ]
  },
  {
   "cell_type": "markdown",
   "id": "4fdaf331",
   "metadata": {},
   "source": [
    "For this task, we took advantage of the fact that the same key was reused to decrypt both cipher text\n",
    "- this allows us to manipulate what the user sees when they decrypt just by manipulating the cipher text without knowing what the key is"
   ]
  },
  {
   "cell_type": "markdown",
   "id": "3a3a6560",
   "metadata": {},
   "source": [
    "The formula derivation is as follows:\n",
    "\n",
    "Basic OTP encryption\n",
    "\n",
    "C = P ^ K\n",
    "\n",
    "Basic OTP decryption\n",
    "\n",
    "P = C ^ K\n",
    "\n",
    "we want to modify the ciphertext such that when we decrypt with the same key, we get the plaintext we want\n",
    "\n",
    "mC ^ K = mP\n",
    "\n",
    "however, we don't know what the key, K is but we do know that\n",
    "\n",
    "K = C ^ P\n",
    "\n",
    "so we plug this substitution into the decryption of the modified ciphertext\n",
    "\n",
    "mC ^ ( C ^ P ) = mP\n",
    "\n",
    "then we re-arrange the formula a little,\n",
    "\n",
    "mC = C ^ ( P ^ mP ) ---> TADA! Magic Formula to change the ciphertext to show what we want without the key, K"
   ]
  },
  {
   "cell_type": "markdown",
   "id": "db399e46",
   "metadata": {},
   "source": [
    "#### Output"
   ]
  },
  {
   "cell_type": "markdown",
   "id": "369746a4",
   "metadata": {},
   "source": [
    "./ex2.py \n",
    "\n",
    "b'Student ID 1000000 gets 0 points\\n'\n",
    "\n",
    "b'Student ID 1008152 gets 4 points\\n'"
   ]
  },
  {
   "cell_type": "markdown",
   "id": "20853eea",
   "metadata": {},
   "source": [
    "#### Why re-using the same key violate the OTP?"
   ]
  },
  {
   "cell_type": "markdown",
   "id": "842c67e1",
   "metadata": {},
   "source": [
    "This is because of how they key gets cancelled out when we XOR both cipher texts, c1 and c2, which were encrypted with the same key\n",
    "\n",
    "e.g.\n",
    "\n",
    "p1 ^ k = c1\n",
    "\n",
    "p2 ^ k = c2\n",
    "\n",
    "so,\n",
    "\n",
    "c1 ^ c2 =\n",
    "\n",
    "(p1 ^ k) ^ (p2 ^ k)\n",
    "\n",
    "= p1 ^ p2\n",
    "\n",
    "With this ciphertext XORs, it is possible for attackers to approach with any cryptography techniques to decipher the separate plaintexts"
   ]
  }
 ],
 "metadata": {
  "language_info": {
   "name": "python"
  }
 },
 "nbformat": 4,
 "nbformat_minor": 5
}
